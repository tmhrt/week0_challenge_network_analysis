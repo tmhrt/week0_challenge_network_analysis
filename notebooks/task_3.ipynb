{
 "cells": [
  {
   "cell_type": "code",
   "execution_count": null,
   "metadata": {},
   "outputs": [],
   "source": [
    "import pprint\n",
    "import pymongo"
   ]
  },
  {
   "cell_type": "code",
   "execution_count": 4,
   "metadata": {},
   "outputs": [],
   "source": [
    "# Add parent directory to path to import modules from src\n",
    "import sys, os\n",
    "rpath = os.path.abspath('..')\n",
    "if rpath not in sys.path:\n",
    "    sys.path.insert(0, rpath)\n",
    "\n",
    "from src.loader import SlackDataLoader\n",
    "import src.databases as databases"
   ]
  },
  {
   "cell_type": "code",
   "execution_count": 6,
   "id": "initial_id",
   "metadata": {
    "ExecuteTime": {
     "end_time": "2023-11-27T09:22:10.102209282Z",
     "start_time": "2023-11-27T09:22:09.762921575Z"
    },
    "collapsed": false,
    "jupyter": {
     "outputs_hidden": false
    }
   },
   "outputs": [
    {
     "name": "stdout",
     "output_type": "stream",
     "text": [
      "collection Company already exists\n",
      "collection Employee already exists\n"
     ]
    }
   ],
   "source": [
    "db = databases.MongoDB()"
   ]
  },
  {
   "cell_type": "markdown",
   "id": "67a77c0aa2951381",
   "metadata": {
    "collapsed": false,
    "jupyter": {
     "outputs_hidden": false
    }
   },
   "source": [
    "#### Get list of collections"
   ]
  },
  {
   "cell_type": "code",
   "execution_count": 3,
   "id": "1943d67b90ef5345",
   "metadata": {
    "ExecuteTime": {
     "end_time": "2023-11-27T09:22:10.139918225Z",
     "start_time": "2023-11-27T09:22:09.771118477Z"
    },
    "collapsed": false,
    "jupyter": {
     "outputs_hidden": false
    }
   },
   "outputs": [
    {
     "ename": "TypeError",
     "evalue": "'Database' object is not callable",
     "output_type": "error",
     "traceback": [
      "\u001b[0;31m---------------------------------------------------------------------------\u001b[0m",
      "\u001b[0;31mTypeError\u001b[0m                                 Traceback (most recent call last)",
      "\u001b[1;32m/home/abu-muhammed/Documents/TenAcademy/week0_challenge_network_analysis/notebooks/task_3.ipynb Cell 4\u001b[0m line \u001b[0;36m1\n\u001b[0;32m----> <a href='vscode-notebook-cell:/home/abu-muhammed/Documents/TenAcademy/week0_challenge_network_analysis/notebooks/task_3.ipynb#W6sZmlsZQ%3D%3D?line=0'>1</a>\u001b[0m db\u001b[39m.\u001b[39mlist_collections()\n",
      "\u001b[0;31mTypeError\u001b[0m: 'Database' object is not callable"
     ]
    }
   ],
   "source": [
    "db."
   ]
  },
  {
   "cell_type": "markdown",
   "id": "eff826746c1013d4",
   "metadata": {
    "collapsed": false,
    "jupyter": {
     "outputs_hidden": false
    }
   },
   "source": [
    "#### Insert record to collection"
   ]
  },
  {
   "cell_type": "code",
   "execution_count": null,
   "id": "feda1ca67e1f08bf",
   "metadata": {
    "ExecuteTime": {
     "end_time": "2023-11-27T09:22:10.174968485Z",
     "start_time": "2023-11-27T09:22:09.840811255Z"
    },
    "collapsed": false,
    "jupyter": {
     "outputs_hidden": false
    }
   },
   "outputs": [],
   "source": [
    "data = {\n",
    "    \"name\": \"John\"\n",
    "}\n",
    "inserted_record = db.insert_to_collection('users', data)\n",
    "print(inserted_record.inserted_id)\n"
   ]
  },
  {
   "cell_type": "markdown",
   "id": "a758e8de3c6b4947",
   "metadata": {
    "collapsed": false,
    "jupyter": {
     "outputs_hidden": false
    }
   },
   "source": [
    "#### Insert more than record to collection"
   ]
  },
  {
   "cell_type": "code",
   "execution_count": null,
   "id": "e1613dd98803f815",
   "metadata": {
    "ExecuteTime": {
     "end_time": "2023-11-27T09:22:10.210845641Z",
     "start_time": "2023-11-27T09:22:09.841239357Z"
    },
    "collapsed": false,
    "jupyter": {
     "outputs_hidden": false
    }
   },
   "outputs": [],
   "source": [
    "data = [{\n",
    "    \"name\": \"Tom\"\n",
    "},\n",
    "    {\n",
    "        \"name\": \"Jane\",\n",
    "        \"age\": 33\n",
    "}\n",
    "]\n",
    "inserted_records = db.insert_many_to_collection('users', data)\n",
    "print(inserted_records)"
   ]
  },
  {
   "cell_type": "markdown",
   "id": "e902fb63fe9eca24",
   "metadata": {
    "collapsed": false,
    "jupyter": {
     "outputs_hidden": false
    }
   },
   "source": [
    "#### Find All records from collection "
   ]
  },
  {
   "cell_type": "code",
   "execution_count": null,
   "id": "cddcaee42da38732",
   "metadata": {
    "ExecuteTime": {
     "end_time": "2023-11-27T09:22:10.211491539Z",
     "start_time": "2023-11-27T09:22:09.863917702Z"
    },
    "collapsed": false,
    "jupyter": {
     "outputs_hidden": false
    }
   },
   "outputs": [],
   "source": [
    "import pprint\n",
    "\n",
    "records = db.find_all('users')\n",
    "for record in records:\n",
    "    pprint.pprint(record)"
   ]
  },
  {
   "cell_type": "markdown",
   "id": "f7f5cb0be2c22957",
   "metadata": {
    "collapsed": false,
    "jupyter": {
     "outputs_hidden": false
    }
   },
   "source": [
    "#### Filter record from collection"
   ]
  },
  {
   "cell_type": "code",
   "execution_count": null,
   "id": "af345ea0ccb0bbfd",
   "metadata": {
    "ExecuteTime": {
     "end_time": "2023-11-27T09:22:10.215331714Z",
     "start_time": "2023-11-27T09:22:09.908992355Z"
    },
    "collapsed": false,
    "jupyter": {
     "outputs_hidden": false
    }
   },
   "outputs": [],
   "source": [
    "results = db.find('users', 'name', 'Jane')\n",
    "for result in results:\n",
    "    pprint.pprint(result)"
   ]
  },
  {
   "cell_type": "code",
   "execution_count": null,
   "id": "974526cb5e1ea0c4",
   "metadata": {
    "ExecuteTime": {
     "end_time": "2023-11-27T09:22:10.235289519Z",
     "start_time": "2023-11-27T09:22:09.909276711Z"
    },
    "collapsed": false,
    "jupyter": {
     "outputs_hidden": false
    }
   },
   "outputs": [],
   "source": [
    "results = db.find('users', 'name', 'Rix')\n",
    "for result in results:\n",
    "    pprint.pprint(result)"
   ]
  },
  {
   "cell_type": "markdown",
   "id": "43a0d42c731246ea",
   "metadata": {
    "collapsed": false,
    "jupyter": {
     "outputs_hidden": false
    }
   },
   "source": [
    "#### Find one from collection"
   ]
  },
  {
   "cell_type": "code",
   "execution_count": null,
   "id": "6e65a86719e4dd5d",
   "metadata": {
    "ExecuteTime": {
     "end_time": "2023-11-27T09:23:09.020008428Z",
     "start_time": "2023-11-27T09:23:08.994515406Z"
    },
    "collapsed": false,
    "jupyter": {
     "outputs_hidden": false
    }
   },
   "outputs": [],
   "source": [
    "result = db.find_one('users', 'name', 'Jane')\n",
    "pprint.pprint(result)"
   ]
  },
  {
   "cell_type": "markdown",
   "id": "37a9ad04",
   "metadata": {},
   "source": [
    "#### Initialize DBWithSchemaClass"
   ]
  },
  {
   "cell_type": "code",
   "execution_count": null,
   "id": "a44faa0420149106",
   "metadata": {
    "collapsed": false,
    "jupyter": {
     "outputs_hidden": false
    }
   },
   "outputs": [],
   "source": [
    "db_with_schema = DBWithSchema()"
   ]
  },
  {
   "cell_type": "markdown",
   "id": "076a3b3c",
   "metadata": {},
   "source": [
    "#### View validators"
   ]
  },
  {
   "cell_type": "code",
   "execution_count": null,
   "id": "d4f5c537",
   "metadata": {},
   "outputs": [],
   "source": [
    "import pprint\n",
    "company_validator = db_with_schema.get_validation('company')\n",
    "pprint.pprint(company_validator)"
   ]
  },
  {
   "cell_type": "code",
   "execution_count": null,
   "id": "cc3e1f07",
   "metadata": {},
   "outputs": [],
   "source": [
    "employee_validator = db_with_schema.get_validation('employee')\n",
    "pprint.pprint(employee_validator)"
   ]
  },
  {
   "cell_type": "markdown",
   "id": "59dc048c",
   "metadata": {},
   "source": [
    "#### Create Company"
   ]
  },
  {
   "cell_type": "code",
   "execution_count": null,
   "id": "3240bb1a",
   "metadata": {},
   "outputs": [],
   "source": [
    "company_data = [\n",
    "  {\n",
    "    \"name\": \"Mercedes-Benz\",\n",
    "    \"city\": \"Stuttgart\",\n",
    "    \"country\": \"Germany\"\n",
    "  },\n",
    "  {\n",
    "    \"name\": \"Chevrolet\",\n",
    "    \"city\": \"Detroit\",\n",
    "    \"country\": \"United States\"\n",
    "  }\n",
    "]\n",
    "inserted_records = db_with_schema.insert_many_to_collection('company', company_data)\n",
    "print(inserted_records)"
   ]
  },
  {
   "cell_type": "code",
   "execution_count": null,
   "id": "22bedf96",
   "metadata": {},
   "outputs": [],
   "source": [
    "employee_data = [\n",
    "  {\n",
    "    \"name\": \"Jane\",\n",
    "    \"age\": 24,\n",
    "    \"company\": inserted_records[0]\n",
    "  },\n",
    "  {\n",
    "    \"name\": \"John\",\n",
    "    \"age\": 26,\n",
    "    \"company\": inserted_records[1]\n",
    "  },\n",
    "  {\n",
    "    \"name\": \"Amy\",\n",
    "    \"age\": 23,\n",
    "    \"company\": inserted_records[1]\n",
    "  },\n",
    "  {\n",
    "    \"name\": \"Jack\",\n",
    "    \"age\": 22,\n",
    "    \"company\": inserted_records[0]\n",
    "  },\n",
    "]\n",
    "inserted_employees = db_with_schema.insert_many_to_collection('employee', employee_data)\n",
    "print(inserted_employees)"
   ]
  },
  {
   "cell_type": "markdown",
   "id": "4d71c56b",
   "metadata": {},
   "source": [
    "#### Select all Employees"
   ]
  },
  {
   "cell_type": "code",
   "execution_count": null,
   "id": "76099a40",
   "metadata": {},
   "outputs": [],
   "source": [
    "import pprint\n",
    "\n",
    "employees = db_with_schema.find_all('employee')\n",
    "for employee in employees:\n",
    "    pprint.pprint(employee)"
   ]
  },
  {
   "cell_type": "markdown",
   "id": "85c56722",
   "metadata": {},
   "source": [
    "#### Look UP"
   ]
  },
  {
   "cell_type": "code",
   "execution_count": null,
   "id": "cf62050e",
   "metadata": {},
   "outputs": [],
   "source": [
    "lookup = [\n",
    "    {\n",
    "        \"$lookup\": {\n",
    "            \"from\": \"employee\",\n",
    "            \"localField\": \"_id\",\n",
    "            \"foreignField\": \"company\",\n",
    "            \"as\": \"employees\"\n",
    "        }\n",
    "    }\n",
    "]\n",
    "employees_with_company = db_with_schema.db.company.aggregate(lookup)\n",
    "employees_list = list(employees_with_company)\n",
    "for employee in employees_list:\n",
    "    pprint.pprint(employee)"
   ]
  },
  {
   "cell_type": "code",
   "execution_count": null,
   "id": "d5ee3446",
   "metadata": {},
   "outputs": [],
   "source": []
  }
 ],
 "metadata": {
  "kernelspec": {
   "display_name": "Python 3 (ipykernel)",
   "language": "python",
   "name": "python3"
  },
  "language_info": {
   "codemirror_mode": {
    "name": "ipython",
    "version": 3
   },
   "file_extension": ".py",
   "mimetype": "text/x-python",
   "name": "python",
   "nbconvert_exporter": "python",
   "pygments_lexer": "ipython3",
   "version": "3.11.6"
  }
 },
 "nbformat": 4,
 "nbformat_minor": 5
}
